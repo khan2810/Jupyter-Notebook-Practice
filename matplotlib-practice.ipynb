{
 "cells": [
  {
   "cell_type": "markdown",
   "metadata": {},
   "source": [
    "### Matplotlib"
   ]
  },
  {
   "cell_type": "code",
   "execution_count": null,
   "metadata": {},
   "outputs": [],
   "source": [
    "from matplotlib import pylab\n",
    "import numpy as np\n",
    "x=np.linspace(0,10,25)\n",
    "y=x*x+2\n",
    "pylab.plot(x,y,'r')"
   ]
  },
  {
   "cell_type": "code",
   "execution_count": null,
   "metadata": {},
   "outputs": [],
   "source": [
    "pylab.subplot(1,2,1)\n",
    "pylab.plot(x,y,'r--')\n",
    "pylab.subplot(1,2,2)\n",
    "pylab.plot(y,x,'g*-')"
   ]
  },
  {
   "cell_type": "code",
   "execution_count": null,
   "metadata": {},
   "outputs": [],
   "source": [
    "from matplotlib import pyplot as plt\n",
    "fig=plt.figure()\n",
    "axis=fig.add_axes([0.1,0.5,0.8,0.8])\n",
    "axis.plot(x,y,'r')"
   ]
  },
  {
   "cell_type": "code",
   "execution_count": null,
   "metadata": {},
   "outputs": [],
   "source": [
    "fig,ax=plt.subplots(dpi=150)\n",
    "ax.set_title('Graph')\n",
    "ax.set_ylabel('y-label')\n",
    "ax.set_xlabel('x-label')\n",
    "ax.plot(x,x+1,color='red')\n",
    "ax.plot(x,x+2,color='green')\n",
    "ax.plot(x,x+3,color='blue')"
   ]
  },
  {
   "cell_type": "code",
   "execution_count": null,
   "metadata": {},
   "outputs": [],
   "source": [
    "fig,ax=plt.subplots(dpi=100)\n",
    "ax.set_title('Graph')\n",
    "ax.set_ylabel('y-label')\n",
    "ax.set_xlabel('x-label')\n",
    "ax.plot(x,x+1,color='red',lw=2,linestyle='-')\n",
    "ax.plot(x,x+2,color='green',marker='o',markersize=10,markerfacecolor='red')\n",
    "ax.plot(x,x+3,color='blue',linestyle='-.')"
   ]
  },
  {
   "cell_type": "code",
   "execution_count": null,
   "metadata": {},
   "outputs": [],
   "source": [
    "fig1=plt.figure()\n",
    "fig1,axes=plt.subplots(1,2,figsize=(10,5))\n",
    "axes[0].plot(x,x**2,x,x**3,lw=2)\n",
    "axes[1].plot(x,x**2,x,x**3,lw=2)\n",
    "axes[1].set_ylim([0,60])\n",
    "axes[1].set_xlim([2,5])\n",
    "axes[1].grid(True)"
   ]
  }
 ],
 "metadata": {
  "language_info": {
   "name": "python"
  },
  "orig_nbformat": 4
 },
 "nbformat": 4,
 "nbformat_minor": 2
}
