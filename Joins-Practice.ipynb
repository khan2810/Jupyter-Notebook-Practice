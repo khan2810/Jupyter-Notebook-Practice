{
 "cells": [
  {
   "cell_type": "markdown",
   "metadata": {},
   "source": [
    "Left Join"
   ]
  },
  {
   "cell_type": "code",
   "execution_count": 4,
   "metadata": {},
   "outputs": [
    {
     "name": "stdout",
     "output_type": "stream",
     "text": [
      "          Team  ICC-RANKS_x  WIN-YEAR  POINTS_x  ICC-RANKS_y  POINTS_y\n",
      "0        India            2      2011       874          NaN       NaN\n",
      "1    Australia            3      2015       787          NaN       NaN\n",
      "2  West-Indies            7      1979       753          NaN       NaN\n",
      "3     Pakistan            8      1992       673          NaN       NaN\n",
      "4    Sri-lanka            4      1996       855          NaN       NaN\n"
     ]
    }
   ],
   "source": [
    "import pandas as pd\n",
    "world_champs = {'Team':['India','Australia','West-Indies','Pakistan','Sri-lanka'] , 'ICC-RANKS':[2,3,7,8,4] , 'WIN-YEAR':[2011,2015,1979,1992,1996] , 'POINTS':[874,787,753,673,855]}\n",
    "chokers = {'Team':['South-africa','Newzealand','Zimbabwe'] , 'ICC-RANKS':[1,5,9] , 'POINTS':[895,764,656]}\n",
    "df1=pd.DataFrame(world_champs)\n",
    "df2=pd.DataFrame(chokers)\n",
    "print(pd.merge(df1,df2, on='Team',how='left'))"
   ]
  },
  {
   "cell_type": "markdown",
   "metadata": {},
   "source": [
    "Right Join"
   ]
  },
  {
   "cell_type": "code",
   "execution_count": 5,
   "metadata": {},
   "outputs": [
    {
     "name": "stdout",
     "output_type": "stream",
     "text": [
      "           Team  ICC-RANKS_x  WIN-YEAR  POINTS_x  ICC-RANKS_y  POINTS_y\n",
      "0  South-africa          NaN       NaN       NaN            1       895\n",
      "1    Newzealand          NaN       NaN       NaN            5       764\n",
      "2      Zimbabwe          NaN       NaN       NaN            9       656\n"
     ]
    }
   ],
   "source": [
    "print(pd.merge(df1,df2, on='Team',how='right'))"
   ]
  },
  {
   "cell_type": "markdown",
   "metadata": {},
   "source": [
    "Inner Join"
   ]
  },
  {
   "cell_type": "code",
   "execution_count": 6,
   "metadata": {},
   "outputs": [
    {
     "name": "stdout",
     "output_type": "stream",
     "text": [
      "Empty DataFrame\n",
      "Columns: [Team, ICC-RANKS_x, WIN-YEAR, POINTS_x, ICC-RANKS_y, POINTS_y]\n",
      "Index: []\n"
     ]
    }
   ],
   "source": [
    "print(pd.merge(df1,df2, on='Team',how='inner'))"
   ]
  },
  {
   "cell_type": "markdown",
   "metadata": {},
   "source": [
    "Full Outer Join "
   ]
  },
  {
   "cell_type": "code",
   "execution_count": 7,
   "metadata": {},
   "outputs": [
    {
     "name": "stdout",
     "output_type": "stream",
     "text": [
      "           Team  ICC-RANKS_x  WIN-YEAR  POINTS_x  ICC-RANKS_y  POINTS_y\n",
      "0         India          2.0    2011.0     874.0          NaN       NaN\n",
      "1     Australia          3.0    2015.0     787.0          NaN       NaN\n",
      "2   West-Indies          7.0    1979.0     753.0          NaN       NaN\n",
      "3      Pakistan          8.0    1992.0     673.0          NaN       NaN\n",
      "4     Sri-lanka          4.0    1996.0     855.0          NaN       NaN\n",
      "5  South-africa          NaN       NaN       NaN          1.0     895.0\n",
      "6    Newzealand          NaN       NaN       NaN          5.0     764.0\n",
      "7      Zimbabwe          NaN       NaN       NaN          9.0     656.0\n"
     ]
    }
   ],
   "source": [
    "print(pd.merge(df1,df2, on='Team',how='outer'))"
   ]
  }
 ],
 "metadata": {
  "interpreter": {
   "hash": "70ce6fb985c8da0c869caeaf7084345036ef7b252baf67cd96a8f14658dc9ee6"
  },
  "kernelspec": {
   "display_name": "Python 3.9.6 64-bit",
   "language": "python",
   "name": "python3"
  },
  "language_info": {
   "codemirror_mode": {
    "name": "ipython",
    "version": 3
   },
   "file_extension": ".py",
   "mimetype": "text/x-python",
   "name": "python",
   "nbconvert_exporter": "python",
   "pygments_lexer": "ipython3",
   "version": "3.9.6"
  },
  "orig_nbformat": 4
 },
 "nbformat": 4,
 "nbformat_minor": 2
}
