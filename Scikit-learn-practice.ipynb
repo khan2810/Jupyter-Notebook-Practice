{
 "cells": [
  {
   "cell_type": "markdown",
   "metadata": {},
   "source": [
    "Creating a DataFrame using Scikit Learn Library"
   ]
  },
  {
   "cell_type": "code",
   "execution_count": null,
   "metadata": {},
   "outputs": [],
   "source": [
    "from sklearn.datasets import load_diabetes\n",
    "import pandas as pd\n",
    "dataset=load_diabetes()\n",
    "# dataset.data               # these things are inbuilt\n",
    "# dataset.target                # load_diabetes()\n",
    "# dataset['feature_names']\n",
    "df1=pd.DataFrame(data=np.c_[dataset['data'],dataset['target']] , columns=dataset['feature_names']+['target'])\n",
    "df1.isnull().any()             # If there is any null value"
   ]
  },
  {
   "cell_type": "markdown",
   "metadata": {},
   "source": [
    "Visualising the DataFrame"
   ]
  },
  {
   "cell_type": "code",
   "execution_count": null,
   "metadata": {},
   "outputs": [],
   "source": [
    "%matplotlib inline\n",
    "import matplotlib.pyplot as plt\n",
    "for column in df1:\n",
    "    plt.figure(dpi=150)\n",
    "    df1.boxplot([column])"
   ]
  }
 ],
 "metadata": {
  "language_info": {
   "name": "python"
  },
  "orig_nbformat": 4
 },
 "nbformat": 4,
 "nbformat_minor": 2
}
